{
 "cells": [
  {
   "cell_type": "code",
   "execution_count": 2,
   "metadata": {},
   "outputs": [],
   "source": [
    "import cv2"
   ]
  },
  {
   "cell_type": "code",
   "execution_count": 3,
   "metadata": {},
   "outputs": [],
   "source": [
    "from PIL import Image\n",
    "import numpy as np\n",
    "import pickle"
   ]
  },
  {
   "cell_type": "code",
   "execution_count": 4,
   "metadata": {},
   "outputs": [],
   "source": [
    "with open('./pickles/train_idx', 'rb') as f:\n",
    "    train_idx = pickle.load(f)\n",
    "with open('./pickles/test_idx', 'rb') as f:\n",
    "    test_idx = pickle.load(f)"
   ]
  },
  {
   "cell_type": "code",
   "execution_count": 5,
   "metadata": {},
   "outputs": [],
   "source": [
    "def rgb2gray(rgb):\n",
    "    return np.dot(rgb[...,:3], [0.299, 0.587, 0.144])"
   ]
  },
  {
   "cell_type": "code",
   "execution_count": 6,
   "metadata": {},
   "outputs": [],
   "source": [
    "img_idx = format(train_idx[10],'06d')"
   ]
  },
  {
   "cell_type": "code",
   "execution_count": 13,
   "metadata": {},
   "outputs": [],
   "source": [
    "img_idx = format(train_idx[14],'06d')\n",
    "img = cv2.imread('./img_files/img_align_celeba/'+img_idx+'.jpg',cv2.IMREAD_GRAYSCALE)\n",
    "img = cv2.Canny(img, 50, 200)\n",
    "    "
   ]
  },
  {
   "cell_type": "code",
   "execution_count": 14,
   "metadata": {},
   "outputs": [],
   "source": [
    "cv2.imshow('edge detection',img)\n",
    "cv2.waitKey(0)\n",
    "cv2.destroyAllWindows()"
   ]
  },
  {
   "cell_type": "code",
   "execution_count": 15,
   "metadata": {
    "scrolled": true
   },
   "outputs": [
    {
     "data": {
      "text/plain": [
       "(1600,)"
      ]
     },
     "execution_count": 15,
     "metadata": {},
     "output_type": "execute_result"
    }
   ],
   "source": [
    "train_idx.shape"
   ]
  },
  {
   "cell_type": "code",
   "execution_count": 16,
   "metadata": {},
   "outputs": [
    {
     "data": {
      "text/plain": [
       "(400,)"
      ]
     },
     "execution_count": 16,
     "metadata": {},
     "output_type": "execute_result"
    }
   ],
   "source": [
    "test_idx.shape"
   ]
  },
  {
   "cell_type": "code",
   "execution_count": 18,
   "metadata": {},
   "outputs": [],
   "source": [
    "img_idx = format(train_idx[0],'06d')\n",
    "img = cv2.imread('./img_files/img_align_celeba/'+img_idx+'.jpg',cv2.IMREAD_GRAYSCALE)\n",
    "img=cv2.Canny(img, 50, 200)"
   ]
  },
  {
   "cell_type": "code",
   "execution_count": 19,
   "metadata": {
    "scrolled": true
   },
   "outputs": [
    {
     "data": {
      "text/plain": [
       "array([[  0,   0,   0, ...,   0,   0,   0],\n",
       "       [  0,   0,   0, ...,   0,   0,   0],\n",
       "       [  0,   0,   0, ...,   0,   0,   0],\n",
       "       ...,\n",
       "       [  0,   0,   0, ...,   0,   0,   0],\n",
       "       [  0, 255, 255, ...,   0,   0,   0],\n",
       "       [255, 255,   0, ...,   0,   0,   0]], dtype=uint8)"
      ]
     },
     "execution_count": 19,
     "metadata": {},
     "output_type": "execute_result"
    }
   ],
   "source": [
    "img"
   ]
  },
  {
   "cell_type": "code",
   "execution_count": 88,
   "metadata": {},
   "outputs": [],
   "source": [
    "cv2.imshow('messy  edge',img)\n",
    "\n",
    "cv2.waitKey(0)\n",
    "cv2.destroyAllWindows()"
   ]
  },
  {
   "cell_type": "code",
   "execution_count": 85,
   "metadata": {
    "scrolled": true
   },
   "outputs": [
    {
     "ename": "TypeError",
     "evalue": "imshow() missing required argument 'mat' (pos 2)",
     "output_type": "error",
     "traceback": [
      "\u001b[1;31m---------------------------------------------------------------------------\u001b[0m",
      "\u001b[1;31mTypeError\u001b[0m                                 Traceback (most recent call last)",
      "\u001b[1;32m<ipython-input-85-3594ed6a38c9>\u001b[0m in \u001b[0;36m<module>\u001b[1;34m\u001b[0m\n\u001b[1;32m----> 1\u001b[1;33m \u001b[0mcv2\u001b[0m\u001b[1;33m.\u001b[0m\u001b[0mimshow\u001b[0m\u001b[1;33m(\u001b[0m\u001b[0mimg\u001b[0m\u001b[1;33m)\u001b[0m\u001b[1;33m\u001b[0m\u001b[1;33m\u001b[0m\u001b[0m\n\u001b[0m",
      "\u001b[1;31mTypeError\u001b[0m: imshow() missing required argument 'mat' (pos 2)"
     ]
    }
   ],
   "source": [
    "cv2.imshow(img)"
   ]
  },
  {
   "cell_type": "code",
   "execution_count": 11,
   "metadata": {},
   "outputs": [
    {
     "data": {
      "text/plain": [
       "2000"
      ]
     },
     "execution_count": 11,
     "metadata": {},
     "output_type": "execute_result"
    }
   ],
   "source": [
    "PART = int(len(train_idx)/10)\n",
    "PART"
   ]
  },
  {
   "cell_type": "code",
   "execution_count": 14,
   "metadata": {},
   "outputs": [
    {
     "name": "stdout",
     "output_type": "stream",
     "text": [
      "0 193160 \n",
      "500 73047 \n",
      "1000 43291 \n",
      "1500 140634 \n",
      "0 68268 \n",
      "500 65048 \n",
      "1000 8171 \n",
      "1500 20937 \n",
      "0 7434 \n",
      "500 60155 \n",
      "1000 113589 \n",
      "1500 28319 \n",
      "0 151428 \n",
      "500 163101 \n",
      "1000 36441 \n",
      "1500 171072 \n",
      "0 95683 \n",
      "500 40263 \n",
      "1000 36739 \n",
      "1500 34759 \n",
      "0 35743 \n",
      "500 106978 \n",
      "1000 169146 \n",
      "1500 34460 \n",
      "0 17497 \n",
      "500 195815 \n",
      "1000 88265 \n",
      "1500 190621 \n",
      "0 188976 \n",
      "500 148971 \n",
      "1000 31240 \n",
      "1500 75696 \n",
      "0 176558 \n",
      "500 193529 \n",
      "1000 73025 \n",
      "1500 125637 \n",
      "0 23707 \n",
      "500 173596 \n",
      "1000 1860 \n",
      "1500 94523 \n"
     ]
    }
   ],
   "source": [
    "PART = int(len(train_idx)/10)\n",
    "for i in range(10):\n",
    "    img_idx = format(train_idx[i*PART],'06d')\n",
    "    img = cv2.imread('./img_files/img_align_celeba/'+img_idx+'.jpg',cv2.IMREAD_GRAYSCALE)\n",
    "    img=cv2.Canny(img, 50, 200)\n",
    "    train_img = np.asarray(img.reshape(1,-1).tolist())\n",
    "    for num,idx in enumerate(train_idx[i*PART+1:(i+1)*PART]):\n",
    "        if(num%500==0):\n",
    "            print(\"%d %d \" %(num, idx))\n",
    "        img_idx = format(train_idx[0],'06d')\n",
    "        img = cv2.imread('./img_files/img_align_celeba/'+img_idx+'.jpg',cv2.IMREAD_GRAYSCALE)\n",
    "        img=cv2.Canny(img, 50, 200)\n",
    "        train_img=np.concatenate((train_img,img.reshape(1,-1).tolist()),axis=0)\n",
    "        del img\n",
    "    with open('./pickles/train_img_set'+str(i), 'wb') as f:\n",
    "        pickle.dump(train_img,f)\n",
    "    del train_img"
   ]
  },
  {
   "cell_type": "code",
   "execution_count": 20,
   "metadata": {
    "scrolled": true
   },
   "outputs": [
    {
     "name": "stdout",
     "output_type": "stream",
     "text": [
      "0 103495 \n",
      "500 190684 \n",
      "1000 81973 \n",
      "1500 48299 \n"
     ]
    }
   ],
   "source": [
    "img_idx = format(train_idx[0],'06d')\n",
    "img = cv2.imread('./img_files/img_align_celeba/'+img_idx+'.jpg',cv2.IMREAD_GRAYSCALE)\n",
    "img=cv2.Canny(img, 50, 200)\n",
    "train_img = np.asarray(img.reshape(1,-1).tolist())\n",
    "for num,idx in enumerate(train_idx[1:]):\n",
    "    if(num%500==0):\n",
    "        print(\"%d %d \" %(num, idx))\n",
    "    img_idx = format(train_idx[0],'06d')\n",
    "    img = cv2.imread('./img_files/img_align_celeba/'+img_idx+'.jpg',cv2.IMREAD_GRAYSCALE)\n",
    "    img=cv2.Canny(img, 50, 200)\n",
    "    train_img=np.concatenate((train_img,img.reshape(1,-1).tolist()),axis=0)\n",
    "    del img\n"
   ]
  },
  {
   "cell_type": "code",
   "execution_count": 21,
   "metadata": {},
   "outputs": [
    {
     "name": "stdout",
     "output_type": "stream",
     "text": [
      "0 184564 \n"
     ]
    }
   ],
   "source": [
    "img_idx = format(test_idx[0],'06d')\n",
    "img = cv2.imread('./img_files/img_align_celeba/'+img_idx+'.jpg',cv2.IMREAD_GRAYSCALE)\n",
    "img=cv2.Canny(img, 50, 200)\n",
    "test_img = np.asarray(img.reshape(1,-1).tolist())\n",
    "for num,idx in enumerate(test_idx[1:]):\n",
    "    if(num%500==0):\n",
    "        print(\"%d %d \" %(num, idx))\n",
    "    img_idx = format(test_idx[0],'06d')\n",
    "    img = cv2.imread('./img_files/img_align_celeba/'+img_idx+'.jpg',cv2.IMREAD_GRAYSCALE)\n",
    "    img=cv2.Canny(img, 50, 200)\n",
    "    test_img=np.concatenate((test_img,img.reshape(1,-1).tolist()),axis=0)\n",
    "    del img\n"
   ]
  },
  {
   "cell_type": "code",
   "execution_count": 90,
   "metadata": {},
   "outputs": [
    {
     "ename": "error",
     "evalue": "OpenCV(4.2.0) C:/projects/opencv-python/opencv/modules/highgui/src/precomp.hpp:137: error: (-215:Assertion failed) src_depth != CV_16F && src_depth != CV_32S in function 'convertToShow'\n",
     "output_type": "error",
     "traceback": [
      "\u001b[1;31m---------------------------------------------------------------------------\u001b[0m",
      "\u001b[1;31merror\u001b[0m                                     Traceback (most recent call last)",
      "\u001b[1;32m<ipython-input-90-66abb8781a89>\u001b[0m in \u001b[0;36m<module>\u001b[1;34m\u001b[0m\n\u001b[1;32m----> 1\u001b[1;33m \u001b[0mcv2\u001b[0m\u001b[1;33m.\u001b[0m\u001b[0mimshow\u001b[0m\u001b[1;33m(\u001b[0m\u001b[1;34m'messy  edge'\u001b[0m\u001b[1;33m,\u001b[0m\u001b[0mtrain_img\u001b[0m\u001b[1;33m[\u001b[0m\u001b[1;36m0\u001b[0m\u001b[1;33m]\u001b[0m\u001b[1;33m)\u001b[0m\u001b[1;33m\u001b[0m\u001b[1;33m\u001b[0m\u001b[0m\n\u001b[0m\u001b[0;32m      2\u001b[0m \u001b[1;33m\u001b[0m\u001b[0m\n\u001b[0;32m      3\u001b[0m \u001b[0mcv2\u001b[0m\u001b[1;33m.\u001b[0m\u001b[0mwaitKey\u001b[0m\u001b[1;33m(\u001b[0m\u001b[1;36m0\u001b[0m\u001b[1;33m)\u001b[0m\u001b[1;33m\u001b[0m\u001b[1;33m\u001b[0m\u001b[0m\n\u001b[0;32m      4\u001b[0m \u001b[0mcv2\u001b[0m\u001b[1;33m.\u001b[0m\u001b[0mdestroyAllWindows\u001b[0m\u001b[1;33m(\u001b[0m\u001b[1;33m)\u001b[0m\u001b[1;33m\u001b[0m\u001b[1;33m\u001b[0m\u001b[0m\n",
      "\u001b[1;31merror\u001b[0m: OpenCV(4.2.0) C:/projects/opencv-python/opencv/modules/highgui/src/precomp.hpp:137: error: (-215:Assertion failed) src_depth != CV_16F && src_depth != CV_32S in function 'convertToShow'\n"
     ]
    }
   ],
   "source": [
    "cv2.imshow('messy  edge',train_img[0])\n",
    "\n",
    "cv2.waitKey(0)\n",
    "cv2.destroyAllWindows()"
   ]
  },
  {
   "cell_type": "code",
   "execution_count": 22,
   "metadata": {},
   "outputs": [],
   "source": [
    "train_img=train_img/255"
   ]
  },
  {
   "cell_type": "code",
   "execution_count": 23,
   "metadata": {},
   "outputs": [],
   "source": [
    "test_img=test_img/255"
   ]
  },
  {
   "cell_type": "code",
   "execution_count": 24,
   "metadata": {},
   "outputs": [
    {
     "data": {
      "text/plain": [
       "array([0., 1.])"
      ]
     },
     "execution_count": 24,
     "metadata": {},
     "output_type": "execute_result"
    }
   ],
   "source": [
    "np.unique(test_img)"
   ]
  },
  {
   "cell_type": "code",
   "execution_count": 25,
   "metadata": {},
   "outputs": [
    {
     "data": {
      "text/plain": [
       "(1600, 38804)"
      ]
     },
     "execution_count": 25,
     "metadata": {},
     "output_type": "execute_result"
    }
   ],
   "source": [
    "train_img.shape"
   ]
  },
  {
   "cell_type": "code",
   "execution_count": 26,
   "metadata": {},
   "outputs": [
    {
     "data": {
      "text/plain": [
       "(400, 38804)"
      ]
     },
     "execution_count": 26,
     "metadata": {},
     "output_type": "execute_result"
    }
   ],
   "source": [
    "test_img.shape"
   ]
  },
  {
   "cell_type": "code",
   "execution_count": 66,
   "metadata": {},
   "outputs": [],
   "source": [
    "with open('./pickles/train_img', 'wb') as f:\n",
    "    pickle.dump(train_img,f)\n",
    "    \n",
    "with open('./pickles/test_img', 'wb') as f:\n",
    "    pickle.dump(test_img,f)"
   ]
  },
  {
   "cell_type": "code",
   "execution_count": 67,
   "metadata": {},
   "outputs": [
    {
     "data": {
      "text/plain": [
       "(1600, 38804)"
      ]
     },
     "execution_count": 67,
     "metadata": {},
     "output_type": "execute_result"
    }
   ],
   "source": [
    "train_img.shape"
   ]
  },
  {
   "cell_type": "code",
   "execution_count": 68,
   "metadata": {},
   "outputs": [
    {
     "data": {
      "text/plain": [
       "(400, 38804)"
      ]
     },
     "execution_count": 68,
     "metadata": {},
     "output_type": "execute_result"
    }
   ],
   "source": [
    "test_img.shape"
   ]
  },
  {
   "cell_type": "code",
   "execution_count": null,
   "metadata": {},
   "outputs": [],
   "source": []
  }
 ],
 "metadata": {
  "kernelspec": {
   "display_name": "Python 3",
   "language": "python",
   "name": "python3"
  },
  "language_info": {
   "codemirror_mode": {
    "name": "ipython",
    "version": 3
   },
   "file_extension": ".py",
   "mimetype": "text/x-python",
   "name": "python",
   "nbconvert_exporter": "python",
   "pygments_lexer": "ipython3",
   "version": "3.7.3"
  }
 },
 "nbformat": 4,
 "nbformat_minor": 2
}
