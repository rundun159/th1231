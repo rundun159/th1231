{
 "cells": [
  {
   "cell_type": "code",
   "execution_count": 1,
   "metadata": {},
   "outputs": [],
   "source": [
    "import numpy as np\n",
    "import random\n",
    "import os\n",
    "from tqdm import tqdm\n",
    "from datetime import datetime"
   ]
  },
  {
   "cell_type": "code",
   "execution_count": 2,
   "metadata": {},
   "outputs": [],
   "source": [
    "make_max_input = True\n",
    "make_file = 20\n",
    "p = 0.3\n",
    "max_list = [False]*make_file\n",
    "for i in range(make_file):\n",
    "    if random.random() < p:\n",
    "        max_list[i] = True"
   ]
  },
  {
   "cell_type": "code",
   "execution_count": 3,
   "metadata": {
    "scrolled": true
   },
   "outputs": [
    {
     "data": {
      "text/plain": [
       "[False,\n",
       " False,\n",
       " True,\n",
       " False,\n",
       " True,\n",
       " False,\n",
       " True,\n",
       " False,\n",
       " True,\n",
       " False,\n",
       " False,\n",
       " False,\n",
       " False,\n",
       " True,\n",
       " False,\n",
       " False,\n",
       " False,\n",
       " True,\n",
       " True,\n",
       " False]"
      ]
     },
     "execution_count": 3,
     "metadata": {},
     "output_type": "execute_result"
    }
   ],
   "source": [
    "max_list"
   ]
  },
  {
   "cell_type": "code",
   "execution_count": 4,
   "metadata": {
    "scrolled": true
   },
   "outputs": [
    {
     "name": "stderr",
     "output_type": "stream",
     "text": [
      "100%|██████████| 2/2 [00:00<00:00, 4928.68it/s]\n",
      "100%|██████████| 4/4 [00:00<00:00, 7678.36it/s]\n",
      "100%|██████████| 5/5 [00:00<00:00, 5330.84it/s]\n",
      "100%|██████████| 2/2 [00:00<00:00, 8289.14it/s]\n",
      "100%|██████████| 5/5 [00:00<00:00, 5465.60it/s]\n",
      "100%|██████████| 2/2 [00:00<00:00, 6533.18it/s]\n",
      "100%|██████████| 5/5 [00:00<00:00, 5306.56it/s]\n",
      "100%|██████████| 5/5 [00:00<00:00, 11676.79it/s]\n",
      "100%|██████████| 5/5 [00:00<00:00, 5362.19it/s]\n",
      "100%|██████████| 4/4 [00:00<00:00, 6678.83it/s]\n",
      "100%|██████████| 2/2 [00:00<00:00, 6398.63it/s]\n",
      "100%|██████████| 4/4 [00:00<00:00, 8097.11it/s]\n",
      "100%|██████████| 5/5 [00:00<00:00, 6919.01it/s]\n",
      "100%|██████████| 5/5 [00:00<00:00, 5111.26it/s]\n",
      "100%|██████████| 3/3 [00:00<00:00, 8671.89it/s]\n",
      "100%|██████████| 3/3 [00:00<00:00, 6367.87it/s]\n",
      "100%|██████████| 4/4 [00:00<00:00, 6213.78it/s]\n",
      "100%|██████████| 5/5 [00:00<00:00, 4627.43it/s]\n",
      "100%|██████████| 5/5 [00:00<00:00, 5695.69it/s]\n",
      "100%|██████████| 4/4 [00:00<00:00, 6015.50it/s]"
     ]
    },
    {
     "name": "stdout",
     "output_type": "stream",
     "text": [
      "inputs directory already exists\n",
      "input_2.txt is max file\n",
      "input_4.txt is max file\n",
      "input_6.txt is max file\n",
      "input_8.txt is max file\n",
      "input_13.txt is max file\n",
      "input_17.txt is max file\n",
      "input_18.txt is max file\n"
     ]
    },
    {
     "name": "stderr",
     "output_type": "stream",
     "text": [
      "\n"
     ]
    }
   ],
   "source": [
    "random.seed(datetime.now())\n",
    "\n",
    "# MIN_N = 1000\n",
    "# MAX_N = 1000000\n",
    "MIN_K = 2\n",
    "MAX_K = 5\n",
    "MIN_N = 1\n",
    "MAX_N = 200\n",
    "\n",
    "DNA = ['A','T','G','C']\n",
    "\n",
    "try:\n",
    "    os.mkdir('inputs')\n",
    "except:\n",
    "    print(\"inputs directory already exists\")\n",
    "for file_idx in range(make_file):\n",
    "    if max_list[file_idx]:\n",
    "        k = MAX_K\n",
    "        n = MAX_N\n",
    "    else:\n",
    "        k = random.randint(MIN_K,MAX_K)\n",
    "    file_list = os.listdir('inputs')\n",
    "    last_idx = -1\n",
    "    for f in file_list:\n",
    "        idx=int(f.split('_')[1].split('.')[0])\n",
    "        if idx>last_idx:\n",
    "            last_idx=idx\n",
    "\n",
    "\n",
    "    with open('./inputs/input_'+str(last_idx+1)+'.txt','w') as f:\n",
    "        if max_list[file_idx]:\n",
    "            print('input_'+str(last_idx+1)+'.txt is max file')\n",
    "        f.write(str(k))\n",
    "        f.write('\\n$\\n')\n",
    "        for k_ in tqdm(range(k)):\n",
    "            if(not max_list[file_idx]):\n",
    "                n = random.randint(MIN_N,MAX_N)\n",
    "            for n_ in range(n):\n",
    "                chr_idx = random.randint(0,len(DNA)-1)\n",
    "                f.write(DNA[chr_idx])\n",
    "            if k_ != k-1:\n",
    "                f.write('\\n')"
   ]
  },
  {
   "cell_type": "code",
   "execution_count": 5,
   "metadata": {},
   "outputs": [],
   "source": [
    "USABLE=[' ']\n",
    "for i in range(0,10):\n",
    "    USABLE+=str(i)\n",
    "for i in range(ord('A'),ord('Z')+1):\n",
    "    USABLE+=chr(i)\n",
    "for i in range(ord('a'),ord('z')+1):\n",
    "    USABLE+=chr(i)\n",
    "LEN_USABLE = len(USABLE)\n"
   ]
  },
  {
   "cell_type": "code",
   "execution_count": 6,
   "metadata": {},
   "outputs": [
    {
     "data": {
      "text/plain": [
       "63"
      ]
     },
     "execution_count": 6,
     "metadata": {},
     "output_type": "execute_result"
    }
   ],
   "source": [
    "LEN_USABLE"
   ]
  },
  {
   "cell_type": "code",
   "execution_count": 7,
   "metadata": {},
   "outputs": [
    {
     "data": {
      "text/plain": [
       "[' ',\n",
       " '0',\n",
       " '1',\n",
       " '2',\n",
       " '3',\n",
       " '4',\n",
       " '5',\n",
       " '6',\n",
       " '7',\n",
       " '8',\n",
       " '9',\n",
       " 'A',\n",
       " 'B',\n",
       " 'C',\n",
       " 'D',\n",
       " 'E',\n",
       " 'F',\n",
       " 'G',\n",
       " 'H',\n",
       " 'I',\n",
       " 'J',\n",
       " 'K',\n",
       " 'L',\n",
       " 'M',\n",
       " 'N',\n",
       " 'O',\n",
       " 'P',\n",
       " 'Q',\n",
       " 'R',\n",
       " 'S',\n",
       " 'T',\n",
       " 'U',\n",
       " 'V',\n",
       " 'W',\n",
       " 'X',\n",
       " 'Y',\n",
       " 'Z',\n",
       " 'a',\n",
       " 'b',\n",
       " 'c',\n",
       " 'd',\n",
       " 'e',\n",
       " 'f',\n",
       " 'g',\n",
       " 'h',\n",
       " 'i',\n",
       " 'j',\n",
       " 'k',\n",
       " 'l',\n",
       " 'm',\n",
       " 'n',\n",
       " 'o',\n",
       " 'p',\n",
       " 'q',\n",
       " 'r',\n",
       " 's',\n",
       " 't',\n",
       " 'u',\n",
       " 'v',\n",
       " 'w',\n",
       " 'x',\n",
       " 'y',\n",
       " 'z']"
      ]
     },
     "execution_count": 7,
     "metadata": {},
     "output_type": "execute_result"
    }
   ],
   "source": [
    "USABLE"
   ]
  },
  {
   "cell_type": "code",
   "execution_count": 8,
   "metadata": {},
   "outputs": [
    {
     "data": {
      "text/plain": [
       "' '"
      ]
     },
     "execution_count": 8,
     "metadata": {},
     "output_type": "execute_result"
    }
   ],
   "source": [
    "USABLE[0]"
   ]
  },
  {
   "cell_type": "code",
   "execution_count": 9,
   "metadata": {},
   "outputs": [
    {
     "data": {
      "text/plain": [
       "'0'"
      ]
     },
     "execution_count": 9,
     "metadata": {},
     "output_type": "execute_result"
    }
   ],
   "source": [
    "USABLE[1]"
   ]
  },
  {
   "cell_type": "code",
   "execution_count": null,
   "metadata": {},
   "outputs": [],
   "source": []
  }
 ],
 "metadata": {
  "kernelspec": {
   "display_name": "Python 3",
   "language": "python",
   "name": "python3"
  },
  "language_info": {
   "codemirror_mode": {
    "name": "ipython",
    "version": 3
   },
   "file_extension": ".py",
   "mimetype": "text/x-python",
   "name": "python",
   "nbconvert_exporter": "python",
   "pygments_lexer": "ipython3",
   "version": "3.8.3"
  }
 },
 "nbformat": 4,
 "nbformat_minor": 4
}
