{
 "cells": [
  {
   "cell_type": "code",
   "execution_count": 6,
   "metadata": {},
   "outputs": [],
   "source": [
    "import numpy as np\n",
    "import random\n",
    "import os\n",
    "from tqdm import tqdm\n",
    "from datetime import datetime"
   ]
  },
  {
   "cell_type": "code",
   "execution_count": 7,
   "metadata": {},
   "outputs": [],
   "source": [
    "make_max_input = True\n",
    "make_file = 20\n",
    "p = 0.3\n",
    "max_list = [False]*make_file\n",
    "for i in range(make_file):\n",
    "    if random.random() < p:\n",
    "        max_list[i] = True"
   ]
  },
  {
   "cell_type": "code",
   "execution_count": 8,
   "metadata": {
    "scrolled": true
   },
   "outputs": [
    {
     "data": {
      "text/plain": [
       "[False,\n",
       " True,\n",
       " False,\n",
       " True,\n",
       " False,\n",
       " False,\n",
       " False,\n",
       " False,\n",
       " False,\n",
       " False,\n",
       " False,\n",
       " True,\n",
       " False,\n",
       " False,\n",
       " True,\n",
       " False,\n",
       " False,\n",
       " True,\n",
       " False,\n",
       " False]"
      ]
     },
     "execution_count": 8,
     "metadata": {},
     "output_type": "execute_result"
    }
   ],
   "source": [
    "max_list"
   ]
  },
  {
   "cell_type": "code",
   "execution_count": 9,
   "metadata": {},
   "outputs": [],
   "source": [
    "random.seed(datetime.now())\n",
    "MAX_N = 10000000"
   ]
  },
  {
   "cell_type": "code",
   "execution_count": null,
   "metadata": {},
   "outputs": [],
   "source": []
  },
  {
   "cell_type": "code",
   "execution_count": 11,
   "metadata": {},
   "outputs": [],
   "source": [
    "if not os.path.isdir('inputs'):\n",
    "    os.mkdir('inputs')"
   ]
  },
  {
   "cell_type": "code",
   "execution_count": 13,
   "metadata": {},
   "outputs": [
    {
     "ename": "TypeError",
     "evalue": "'module' object is not callable",
     "output_type": "error",
     "traceback": [
      "\u001b[0;31m---------------------------------------------------------------------------\u001b[0m",
      "\u001b[0;31mTypeError\u001b[0m                                 Traceback (most recent call last)",
      "\u001b[0;32m<ipython-input-13-1f41b8e70eb4>\u001b[0m in \u001b[0;36m<module>\u001b[0;34m\u001b[0m\n\u001b[0;32m----> 1\u001b[0;31m \u001b[0mrandom\u001b[0m\u001b[0;34m(\u001b[0m\u001b[0;36m10000\u001b[0m\u001b[0;34m)\u001b[0m\u001b[0;34m\u001b[0m\u001b[0;34m\u001b[0m\u001b[0m\n\u001b[0m",
      "\u001b[0;31mTypeError\u001b[0m: 'module' object is not callable"
     ]
    }
   ],
   "source": [
    "random(10000)"
   ]
  },
  {
   "cell_type": "code",
   "execution_count": 14,
   "metadata": {},
   "outputs": [],
   "source": [
    "for i in range(make_file):\n",
    "    with open('./inputs/input_'+str(i)+'.txt','w') as f:\n",
    "        for j in range(MAX_N):\n",
    "            f.write(chr(random.randint(0,1000)))"
   ]
  },
  {
   "cell_type": "code",
   "execution_count": null,
   "metadata": {},
   "outputs": [],
   "source": []
  },
  {
   "cell_type": "code",
   "execution_count": null,
   "metadata": {},
   "outputs": [],
   "source": []
  },
  {
   "cell_type": "code",
   "execution_count": 12,
   "metadata": {},
   "outputs": [
    {
     "name": "stderr",
     "output_type": "stream",
     "text": [
      "100%|██████████| 5/5 [00:00<00:00, 8279.32it/s]\n",
      "100%|██████████| 5/5 [00:00<00:00, 13391.78it/s]\n",
      "100%|██████████| 5/5 [00:00<00:00, 8062.87it/s]\n",
      "100%|██████████| 5/5 [00:00<00:00, 13778.92it/s]\n",
      "100%|██████████| 5/5 [00:00<00:00, 4647.94it/s]\n",
      "100%|██████████| 5/5 [00:00<00:00, 4493.58it/s]\n",
      "100%|██████████| 5/5 [00:00<00:00, 7065.88it/s]\n",
      "100%|██████████| 5/5 [00:00<00:00, 5684.88it/s]\n",
      "100%|██████████| 5/5 [00:00<00:00, 7191.88it/s]\n",
      "100%|██████████| 5/5 [00:00<00:00, 16804.10it/s]\n",
      "100%|██████████| 5/5 [00:00<00:00, 7801.90it/s]\n",
      "100%|██████████| 5/5 [00:00<00:00, 8521.54it/s]\n",
      "100%|██████████| 5/5 [00:00<00:00, 4165.15it/s]\n",
      "100%|██████████| 5/5 [00:00<00:00, 5001.55it/s]\n",
      "100%|██████████| 5/5 [00:00<00:00, 3605.83it/s]\n",
      "100%|██████████| 5/5 [00:00<00:00, 7147.76it/s]\n",
      "100%|██████████| 5/5 [00:00<00:00, 3608.93it/s]\n",
      "100%|██████████| 5/5 [00:00<00:00, 7592.87it/s]\n",
      "100%|██████████| 5/5 [00:00<00:00, 4473.45it/s]\n",
      "100%|██████████| 5/5 [00:00<00:00, 8312.14it/s]"
     ]
    },
    {
     "name": "stdout",
     "output_type": "stream",
     "text": [
      "inputs directory already exists\n",
      "5 6 4\n",
      "inputs directory already exists\n",
      "5 2 1\n",
      "inputs directory already exists\n",
      "5 8 1\n",
      "inputs directory already exists\n",
      "5 4 2\n",
      "inputs directory already exists\n",
      "5 9 7\n",
      "inputs directory already exists\n",
      "5 10 8\n",
      "input_28.txt is max file\n",
      "inputs directory already exists\n",
      "5 8 1\n",
      "inputs directory already exists\n",
      "5 6 2\n",
      "inputs directory already exists\n",
      "5 9 4\n",
      "inputs directory already exists\n",
      "5 4 3\n",
      "inputs directory already exists\n",
      "5 8 8\n",
      "inputs directory already exists\n",
      "5 8 1\n",
      "inputs directory already exists\n",
      "5 10 4\n",
      "input_35.txt is max file\n",
      "inputs directory already exists\n",
      "5 6 3\n",
      "inputs directory already exists\n",
      "5 10 9\n",
      "input_37.txt is max file\n",
      "inputs directory already exists\n",
      "5 1 1\n",
      "inputs directory already exists\n",
      "5 8 6\n",
      "inputs directory already exists\n",
      "5 4 1\n",
      "inputs directory already exists\n",
      "5 10 8\n",
      "input_41.txt is max file\n",
      "inputs directory already exists\n",
      "5 6 1\n"
     ]
    },
    {
     "name": "stderr",
     "output_type": "stream",
     "text": [
      "\n"
     ]
    }
   ],
   "source": [
    "random.seed(datetime.now())\n",
    "\n",
    "# MIN_N = 1000\n",
    "# MAX_N = 1000000\n",
    "MIN_N = 5\n",
    "MAX_N = 5\n",
    "MIN_T = 1\n",
    "MAX_T = 10\n",
    "MIN_M = 1\n",
    "MAX_M = 15\n",
    "\n",
    "ATTRIBUTE_LIST=['P_ID','LastName','LASTNAME','FirstName','FIRSTNAME','Address','ADDRESS','City','CITY','LOCATION']\n",
    "\n",
    "USABLE=[' ']\n",
    "for i in range(0,10):\n",
    "    USABLE+=str(i)\n",
    "for i in range(ord('A'),ord('Z')+1):\n",
    "    USABLE+=chr(i)\n",
    "for i in range(ord('a'),ord('z')+1):\n",
    "    USABLE+=chr(i)\n",
    "LEN_USABLE = len(USABLE)\n",
    "\n",
    "for file_idx in range(make_file):\n",
    "    ATTRIBUTE_LIST=['P_ID','LastName','LASTNAME','FirstName','FIRSTNAME','Address','ADDRESS','City','CITY','LOCATION']\n",
    "    if max_list[file_idx]:\n",
    "        n = MAX_N\n",
    "        t = MAX_T\n",
    "    else:\n",
    "        n = random.randint(MIN_N,MAX_N)\n",
    "        t = random.randint(MIN_T,MAX_T)\n",
    "    key_t = random.randint(1,t)\n",
    "\n",
    "    random.shuffle(ATTRIBUTE_LIST)\n",
    "    ATTRIBUTE_LIST[key_t-1]+='(Key)'\n",
    "\n",
    "    try:\n",
    "        os.mkdir('inputs')\n",
    "    except:\n",
    "        print(\"inputs directory already exists\")\n",
    "    file_list = os.listdir('inputs')\n",
    "    last_idx = -1\n",
    "    for f in file_list:\n",
    "        idx=int(f.split('_')[1].split('.')[0])\n",
    "        if idx>last_idx:\n",
    "            last_idx=idx\n",
    "\n",
    "    print(n,t,key_t)\n",
    "\n",
    "    with open('./inputs/input_'+str(last_idx+1)+'.txt','w') as f:\n",
    "        if max_list[file_idx]:\n",
    "            print('input_'+str(last_idx+1)+'.txt is max file')\n",
    "        f.write(str(n))\n",
    "        f.write('\\n$\\n')\n",
    "        for i in range(t-1):\n",
    "            f.write(ATTRIBUTE_LIST[i])\n",
    "            f.write(' : ')\n",
    "        f.write(ATTRIBUTE_LIST[t-1])\n",
    "        f.write('\\n$\\n')\n",
    "        for i in tqdm(range(n)):\n",
    "            for t_ in range(t):\n",
    "                if max_list[file_idx]:\n",
    "                    m = MAX_M\n",
    "                else:\n",
    "                    m = random.randint(MIN_M,MAX_M)\n",
    "                for m_ in range(m):\n",
    "                    char_idx = random.randint(0,LEN_USABLE-1)\n",
    "                    f.write(USABLE[char_idx])\n",
    "                if t_ != t-1:\n",
    "                    f.write(':')\n",
    "            if i != n-1:\n",
    "                f.write('\\n')"
   ]
  },
  {
   "cell_type": "code",
   "execution_count": 5,
   "metadata": {},
   "outputs": [],
   "source": [
    "USABLE=[' ']\n",
    "for i in range(0,10):\n",
    "    USABLE+=str(i)\n",
    "for i in range(ord('A'),ord('Z')+1):\n",
    "    USABLE+=chr(i)\n",
    "for i in range(ord('a'),ord('z')+1):\n",
    "    USABLE+=chr(i)\n",
    "LEN_USABLE = len(USABLE)\n"
   ]
  },
  {
   "cell_type": "code",
   "execution_count": 6,
   "metadata": {},
   "outputs": [
    {
     "data": {
      "text/plain": [
       "63"
      ]
     },
     "execution_count": 6,
     "metadata": {},
     "output_type": "execute_result"
    }
   ],
   "source": [
    "LEN_USABLE"
   ]
  },
  {
   "cell_type": "code",
   "execution_count": 8,
   "metadata": {},
   "outputs": [
    {
     "data": {
      "text/plain": [
       "[' ',\n",
       " '0',\n",
       " '1',\n",
       " '2',\n",
       " '3',\n",
       " '4',\n",
       " '5',\n",
       " '6',\n",
       " '7',\n",
       " '8',\n",
       " '9',\n",
       " 'A',\n",
       " 'B',\n",
       " 'C',\n",
       " 'D',\n",
       " 'E',\n",
       " 'F',\n",
       " 'G',\n",
       " 'H',\n",
       " 'I',\n",
       " 'J',\n",
       " 'K',\n",
       " 'L',\n",
       " 'M',\n",
       " 'N',\n",
       " 'O',\n",
       " 'P',\n",
       " 'Q',\n",
       " 'R',\n",
       " 'S',\n",
       " 'T',\n",
       " 'U',\n",
       " 'V',\n",
       " 'W',\n",
       " 'X',\n",
       " 'Y',\n",
       " 'Z',\n",
       " 'a',\n",
       " 'b',\n",
       " 'c',\n",
       " 'd',\n",
       " 'e',\n",
       " 'f',\n",
       " 'g',\n",
       " 'h',\n",
       " 'i',\n",
       " 'j',\n",
       " 'k',\n",
       " 'l',\n",
       " 'm',\n",
       " 'n',\n",
       " 'o',\n",
       " 'p',\n",
       " 'q',\n",
       " 'r',\n",
       " 's',\n",
       " 't',\n",
       " 'u',\n",
       " 'v',\n",
       " 'w',\n",
       " 'x',\n",
       " 'y',\n",
       " 'z']"
      ]
     },
     "execution_count": 8,
     "metadata": {},
     "output_type": "execute_result"
    }
   ],
   "source": [
    "USABLE"
   ]
  },
  {
   "cell_type": "code",
   "execution_count": 9,
   "metadata": {},
   "outputs": [
    {
     "data": {
      "text/plain": [
       "' '"
      ]
     },
     "execution_count": 9,
     "metadata": {},
     "output_type": "execute_result"
    }
   ],
   "source": [
    "USABLE[0]"
   ]
  },
  {
   "cell_type": "code",
   "execution_count": 10,
   "metadata": {},
   "outputs": [
    {
     "data": {
      "text/plain": [
       "'0'"
      ]
     },
     "execution_count": 10,
     "metadata": {},
     "output_type": "execute_result"
    }
   ],
   "source": [
    "USABLE[1]"
   ]
  },
  {
   "cell_type": "code",
   "execution_count": null,
   "metadata": {},
   "outputs": [],
   "source": []
  }
 ],
 "metadata": {
  "kernelspec": {
   "display_name": "Python 3",
   "language": "python",
   "name": "python3"
  },
  "language_info": {
   "codemirror_mode": {
    "name": "ipython",
    "version": 3
   },
   "file_extension": ".py",
   "mimetype": "text/x-python",
   "name": "python",
   "nbconvert_exporter": "python",
   "pygments_lexer": "ipython3",
   "version": "3.8.3"
  }
 },
 "nbformat": 4,
 "nbformat_minor": 4
}
